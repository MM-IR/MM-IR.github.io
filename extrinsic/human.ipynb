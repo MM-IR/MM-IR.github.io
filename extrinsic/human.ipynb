{
 "cells": [
  {
   "cell_type": "code",
   "execution_count": 1,
   "id": "23e61570-542c-4eca-82fc-384b69583d1d",
   "metadata": {
    "tags": []
   },
   "outputs": [],
   "source": [
    "import os \n",
    "import shutil"
   ]
  },
  {
   "cell_type": "code",
   "execution_count": 2,
   "id": "03dad0ad-d529-4a46-ac2f-633586462a9c",
   "metadata": {
    "tags": []
   },
   "outputs": [
    {
     "data": {
      "text/plain": [
       "'/mnt/workspace/workgroup2/jianyu/MM-IR.github.io/extrinsic'"
      ]
     },
     "execution_count": 2,
     "metadata": {},
     "output_type": "execute_result"
    }
   ],
   "source": [
    "pwd"
   ]
  },
  {
   "cell_type": "code",
   "execution_count": 3,
   "id": "cf5af8b7-5018-4448-8070-f643ba5227c8",
   "metadata": {
    "tags": []
   },
   "outputs": [],
   "source": [
    "meta_data_link = \"/mnt/workspace/workgroup2/jianyu/MM-IR.github.io/extrinsic/meta_data/\""
   ]
  },
  {
   "cell_type": "code",
   "execution_count": 4,
   "id": "e7d13bf0-2e6c-4b16-ad02-95e8a4696c93",
   "metadata": {
    "tags": []
   },
   "outputs": [],
   "source": [
    "data_link = \"/mnt/workspace/workgroup2/jianyu/MM-IR.github.io/extrinsic\""
   ]
  },
  {
   "cell_type": "code",
   "execution_count": null,
   "id": "59feb052-6df6-40ea-9fef-b525538b6124",
   "metadata": {},
   "outputs": [],
   "source": []
  },
  {
   "cell_type": "code",
   "execution_count": 5,
   "id": "ce87eb1b-f41a-46d9-a524-f72d66a37886",
   "metadata": {
    "tags": []
   },
   "outputs": [],
   "source": [
    "human_data_link = \"/mnt/workspace/workgroup2/jianyu/MM-IR.github.io/extrinsic/human_phrasecut_indirect_extrinsic/\"\n",
    "#human_data_generate_link = \"/mnt/workspace/workgroup2/jianyu/jianyu-cs.github.io/our_ad_hoc/human_ad_hoc_generate/\"\n",
    "if not os.path.exists(human_data_link):\n",
    "    os.mkdir(human_data_link)\n",
    "#if not os.path.exists(human_data_generate_link):\n",
    "#    os.mkdir(human_data_generate_link)"
   ]
  },
  {
   "cell_type": "code",
   "execution_count": 6,
   "id": "90d5c271-43ab-4158-96d9-69edb03e6b14",
   "metadata": {
    "tags": []
   },
   "outputs": [],
   "source": [
    "if not os.path.exists(os.path.join(human_data_link, \"images\")):\n",
    "    os.mkdir(os.path.join(human_data_link, \"images\"))\n",
    "\n",
    "    \n",
    "if not os.path.exists(os.path.join(human_data_link, \"masks\")):\n",
    "    os.mkdir(os.path.join(human_data_link, \"masks\"))\n",
    "\n",
    "    \n",
    "if not os.path.exists(os.path.join(human_data_link, \"meta_data\")):\n",
    "    os.mkdir(os.path.join(human_data_link, \"meta_data\"))\n",
    "\n",
    "\n",
    "if not os.path.exists(os.path.join(human_data_link, \"SoMs\")):\n",
    "    os.mkdir(os.path.join(human_data_link, \"SoMs\"))\n"
   ]
  },
  {
   "cell_type": "code",
   "execution_count": 7,
   "id": "3744c4d2-3bf1-4a79-a1a1-2c3d46c2a0ee",
   "metadata": {
    "tags": []
   },
   "outputs": [],
   "source": [
    "meta_data_files = os.listdir(meta_data_link)"
   ]
  },
  {
   "cell_type": "code",
   "execution_count": 8,
   "id": "579f3694-90e1-42a8-9956-d31824ac567c",
   "metadata": {
    "tags": []
   },
   "outputs": [],
   "source": [
    "implicature = []"
   ]
  },
  {
   "cell_type": "code",
   "execution_count": 9,
   "id": "c41b3864-4a40-4862-be1f-64133ca3630e",
   "metadata": {
    "tags": []
   },
   "outputs": [],
   "source": [
    "cancel = []"
   ]
  },
  {
   "cell_type": "code",
   "execution_count": 10,
   "id": "cf8fe6c0-0b24-4a75-8d55-56c4df862a52",
   "metadata": {
    "tags": []
   },
   "outputs": [
    {
     "data": {
      "text/plain": [
       "'199.jsonl'"
      ]
     },
     "execution_count": 10,
     "metadata": {},
     "output_type": "execute_result"
    }
   ],
   "source": [
    "meta_data_files[-1]"
   ]
  },
  {
   "cell_type": "code",
   "execution_count": 11,
   "id": "40b5c80d-e71e-4f5d-ad3c-4d311d337262",
   "metadata": {
    "tags": []
   },
   "outputs": [],
   "source": [
    "import pandas as pd\n",
    "utterances = pd.read_csv(\"extrinsic_utterances.csv\")"
   ]
  },
  {
   "cell_type": "code",
   "execution_count": 12,
   "id": "9be2fdc9-9270-44eb-a78a-e7dc8695414b",
   "metadata": {
    "tags": []
   },
   "outputs": [],
   "source": [
    "utterances = utterances['utterance'].tolist()"
   ]
  },
  {
   "cell_type": "code",
   "execution_count": 13,
   "id": "ed2bf32f-4887-4f6e-97f4-918e2fd69848",
   "metadata": {
    "tags": []
   },
   "outputs": [],
   "source": [
    "for meta_data in meta_data_files:\n",
    "    if \"jsonl\" in meta_data:\n",
    "        if int(meta_data.rstrip(\".jsonl\")) < 100:\n",
    "            implicature.append(meta_data)\n",
    "        else:\n",
    "            cancel.append(meta_data)"
   ]
  },
  {
   "cell_type": "code",
   "execution_count": 14,
   "id": "0b007000-11cd-4eb1-898f-429681cef80a",
   "metadata": {
    "tags": []
   },
   "outputs": [],
   "source": [
    "final_meta_data_files = []\n",
    "for meta_data in implicature:\n",
    "    if \"json\" in meta_data:\n",
    "        final_meta_data_files.append(meta_data)"
   ]
  },
  {
   "cell_type": "code",
   "execution_count": null,
   "id": "c5407176-f282-4b40-96b1-666d1b165828",
   "metadata": {},
   "outputs": [],
   "source": []
  },
  {
   "cell_type": "code",
   "execution_count": 15,
   "id": "a9f581ff-708c-4a2b-b538-e8f5ab212aab",
   "metadata": {
    "tags": []
   },
   "outputs": [],
   "source": [
    "import random\n",
    "human_meta_data_implicature_files = random.sample(implicature, 50)\n",
    "human_meta_data_cancel_files = random.sample(cancel, 50)"
   ]
  },
  {
   "cell_type": "code",
   "execution_count": 16,
   "id": "134f3386-7222-4863-b491-b18c366cd1e2",
   "metadata": {
    "tags": []
   },
   "outputs": [],
   "source": [
    "final_human_meta_data_implicature_files = []\n",
    "final_human_meta_data_cancel_files = []\n",
    "import json\n",
    "for file in human_meta_data_implicature_files:\n",
    "    with open(os.path.join(meta_data_link, file), \"r\") as f:\n",
    "        #\n",
    "        ans = list(f)\n",
    "    ans = [json.loads(_) for _ in ans]\n",
    "    #\n",
    "    if ans[0]['utterance'] not in utterances:\n",
    "        final_human_meta_data_implicature_files.append(file)\n"
   ]
  },
  {
   "cell_type": "code",
   "execution_count": 17,
   "id": "f3ca001b-ad92-437f-b93d-a97f1cf39ab7",
   "metadata": {
    "tags": []
   },
   "outputs": [],
   "source": [
    "for file in human_meta_data_cancel_files:\n",
    "    with open(os.path.join(meta_data_link, file), \"r\") as f:\n",
    "        #\n",
    "        ans = list(f)\n",
    "    ans = [json.loads(_) for _ in ans]\n",
    "    #\n",
    "    if ans[0]['utterance'] not in utterances:\n",
    "        final_human_meta_data_cancel_files.append(file)"
   ]
  },
  {
   "cell_type": "code",
   "execution_count": 18,
   "id": "b90014da-ad06-4084-ae0e-a0658eeca4de",
   "metadata": {
    "tags": []
   },
   "outputs": [
    {
     "data": {
      "text/plain": [
       "(42, 44)"
      ]
     },
     "execution_count": 18,
     "metadata": {},
     "output_type": "execute_result"
    }
   ],
   "source": [
    "len(final_human_meta_data_cancel_files), len(final_human_meta_data_implicature_files)"
   ]
  },
  {
   "cell_type": "code",
   "execution_count": 19,
   "id": "16830ef0-49fc-43b6-99ea-73fd58e8ce10",
   "metadata": {
    "tags": []
   },
   "outputs": [],
   "source": [
    "final_human_meta_data_implicature_files = random.sample(final_human_meta_data_implicature_files, 20)\n",
    "final_human_meta_data_cancel_files = random.sample(final_human_meta_data_cancel_files, 20)"
   ]
  },
  {
   "cell_type": "code",
   "execution_count": null,
   "id": "44929bcb-b048-427b-8e27-eeade138b0fa",
   "metadata": {},
   "outputs": [],
   "source": []
  },
  {
   "cell_type": "code",
   "execution_count": 20,
   "id": "7cedecc9-19e8-41dc-a961-cbff2cfc8e9f",
   "metadata": {
    "tags": []
   },
   "outputs": [],
   "source": [
    "import json\n",
    "for i, human_meta_data in enumerate(final_human_meta_data_implicature_files+final_human_meta_data_cancel_files):\n",
    "    #\n",
    "    with open(os.path.join(meta_data_link, human_meta_data), \"r\") as f:\n",
    "        temp_meta_data = list(f)\n",
    "    temp_meta_data = [json.loads(_) for _ in temp_meta_data]\n",
    "    # change image_index, and image_filename\n",
    "    image_index = 3 * i \n",
    "    \n",
    "        \n",
    "    for j, temp in enumerate(temp_meta_data):\n",
    "        if \"image_filename\" in temp:\n",
    "            src_image_path = os.path.join(data_link, \"images\", temp['image_filename'])\n",
    "            tgt_image_path = os.path.join(human_data_link, \"images\", \"%03d.png\" % image_index)\n",
    "            #src_mask_path = os.path.join(data_link, \"masks\", temp['image_filename'])\n",
    "            #tgt_mask_path = os.path.join(human_data_link, \"masks\", \"%03d.png\" % image_index)\n",
    "            #src_som_path = os.path.join(data_link, \"SoMs\", temp['image_filename'])\n",
    "            #tgt_som_path = os.path.join(human_data_link, \"SoMs\", \"%03d.png\" % image_index)\n",
    "            \n",
    "            shutil.copy(src_image_path, tgt_image_path)\n",
    "            #shutil.copy(src_mask_path, tgt_mask_path)\n",
    "            #shutil.copy(src_som_path, tgt_som_path)\n",
    "\n",
    "            temp_meta_data[j]['image_filename'] = \"%03d.png\" % image_index\n",
    "            #temp_meta_data[j]['image_index'] = \"%06d\" % image_index\n",
    "            \n",
    "            \n",
    "            image_index += 1 \n",
    "        else:\n",
    "            temp_meta_data[j]['utterance'] = temp_meta_data[j]['utterance'].replace(\"Some\", \"Not all\")#\"It contains\", \"The images contain\")\n",
    "            temp_meta_data[j]['referent'] = [\"%03d.png\" % (3 * i)]\n",
    "            temp_meta_data[j]['type'] = [\"%03d.png\" % (3 * i)]\n",
    "    \n",
    "    tgt_jsonl_path = os.path.join(human_data_link, \"meta_data\", \"%03d.jsonl\" % i)\n",
    "    \n",
    "    with open(tgt_jsonl_path, \"w\") as f:\n",
    "        for element in temp_meta_data:\n",
    "            f.write(json.dumps(element)+\"\\n\")\n",
    "\n",
    "    #src_jsonl_path = os.path.join(meta_data_link, human_meta_data)\n",
    "    #tgt_jsonl_path = os.path.join(human_data_link, \"meta_data\", \"CLEVR_%06d.json\" % i)\n"
   ]
  },
  {
   "cell_type": "code",
   "execution_count": 16,
   "id": "ee2d2780-eab3-48c8-a3d0-72cf46a184f7",
   "metadata": {
    "tags": []
   },
   "outputs": [
    {
     "data": {
      "text/plain": [
       "'/mnt/workspace/workgroup/jianyu/MM-IR.github.io/upperward'"
      ]
     },
     "execution_count": 16,
     "metadata": {},
     "output_type": "execute_result"
    }
   ],
   "source": [
    "pwd"
   ]
  },
  {
   "cell_type": "code",
   "execution_count": null,
   "id": "ddff67b3-4032-4a6d-beb2-7759a41e173d",
   "metadata": {},
   "outputs": [],
   "source": []
  }
 ],
 "metadata": {
  "kernelspec": {
   "display_name": "Python 3 (ipykernel)",
   "language": "python",
   "name": "python3"
  },
  "language_info": {
   "codemirror_mode": {
    "name": "ipython",
    "version": 3
   },
   "file_extension": ".py",
   "mimetype": "text/x-python",
   "name": "python",
   "nbconvert_exporter": "python",
   "pygments_lexer": "ipython3",
   "version": "3.11.8"
  }
 },
 "nbformat": 4,
 "nbformat_minor": 5
}
