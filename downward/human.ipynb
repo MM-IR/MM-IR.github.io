{
 "cells": [
  {
   "cell_type": "code",
   "execution_count": 1,
   "id": "23e61570-542c-4eca-82fc-384b69583d1d",
   "metadata": {
    "tags": []
   },
   "outputs": [],
   "source": [
    "import os \n",
    "import shutil"
   ]
  },
  {
   "cell_type": "code",
   "execution_count": 2,
   "id": "03dad0ad-d529-4a46-ac2f-633586462a9c",
   "metadata": {
    "tags": []
   },
   "outputs": [
    {
     "data": {
      "text/plain": [
       "'/mnt/workspace/workgroup/jianyu/MM-IR.github.io/downward'"
      ]
     },
     "execution_count": 2,
     "metadata": {},
     "output_type": "execute_result"
    }
   ],
   "source": [
    "pwd"
   ]
  },
  {
   "cell_type": "code",
   "execution_count": 3,
   "id": "cf5af8b7-5018-4448-8070-f643ba5227c8",
   "metadata": {
    "tags": []
   },
   "outputs": [],
   "source": [
    "meta_data_link = \"/mnt/workspace/workgroup/jianyu/MM-IR.github.io/downward/meta_data/\""
   ]
  },
  {
   "cell_type": "code",
   "execution_count": 4,
   "id": "e7d13bf0-2e6c-4b16-ad02-95e8a4696c93",
   "metadata": {
    "tags": []
   },
   "outputs": [],
   "source": [
    "data_link = \"/mnt/workspace/workgroup/jianyu/MM-IR.github.io/downward\""
   ]
  },
  {
   "cell_type": "code",
   "execution_count": null,
   "id": "59feb052-6df6-40ea-9fef-b525538b6124",
   "metadata": {},
   "outputs": [],
   "source": []
  },
  {
   "cell_type": "code",
   "execution_count": 5,
   "id": "ce87eb1b-f41a-46d9-a524-f72d66a37886",
   "metadata": {
    "tags": []
   },
   "outputs": [],
   "source": [
    "human_data_link = \"/mnt/workspace/workgroup/jianyu/MM-IR.github.io/downward/human_clevr_downward/\"\n",
    "#human_data_generate_link = \"/mnt/workspace/workgroup2/jianyu/jianyu-cs.github.io/our_ad_hoc/human_ad_hoc_generate/\"\n",
    "if not os.path.exists(human_data_link):\n",
    "    os.mkdir(human_data_link)\n",
    "#if not os.path.exists(human_data_generate_link):\n",
    "#    os.mkdir(human_data_generate_link)"
   ]
  },
  {
   "cell_type": "code",
   "execution_count": 6,
   "id": "90d5c271-43ab-4158-96d9-69edb03e6b14",
   "metadata": {
    "tags": []
   },
   "outputs": [],
   "source": [
    "if not os.path.exists(os.path.join(human_data_link, \"images\")):\n",
    "    os.mkdir(os.path.join(human_data_link, \"images\"))\n",
    "\n",
    "    \n",
    "if not os.path.exists(os.path.join(human_data_link, \"masks\")):\n",
    "    os.mkdir(os.path.join(human_data_link, \"masks\"))\n",
    "\n",
    "    \n",
    "if not os.path.exists(os.path.join(human_data_link, \"meta_data\")):\n",
    "    os.mkdir(os.path.join(human_data_link, \"meta_data\"))\n",
    "\n",
    "\n",
    "if not os.path.exists(os.path.join(human_data_link, \"SoMs\")):\n",
    "    os.mkdir(os.path.join(human_data_link, \"SoMs\"))\n"
   ]
  },
  {
   "cell_type": "code",
   "execution_count": 7,
   "id": "3744c4d2-3bf1-4a79-a1a1-2c3d46c2a0ee",
   "metadata": {
    "tags": []
   },
   "outputs": [],
   "source": [
    "meta_data_files = os.listdir(meta_data_link)"
   ]
  },
  {
   "cell_type": "code",
   "execution_count": 8,
   "id": "579f3694-90e1-42a8-9956-d31824ac567c",
   "metadata": {
    "tags": []
   },
   "outputs": [],
   "source": [
    "implicature = []"
   ]
  },
  {
   "cell_type": "code",
   "execution_count": 9,
   "id": "c41b3864-4a40-4862-be1f-64133ca3630e",
   "metadata": {
    "tags": []
   },
   "outputs": [],
   "source": [
    "cancel = []"
   ]
  },
  {
   "cell_type": "code",
   "execution_count": 10,
   "id": "cf8fe6c0-0b24-4a75-8d55-56c4df862a52",
   "metadata": {
    "tags": []
   },
   "outputs": [
    {
     "data": {
      "text/plain": [
       "'CLEVR_000599.json'"
      ]
     },
     "execution_count": 10,
     "metadata": {},
     "output_type": "execute_result"
    }
   ],
   "source": [
    "meta_data_files[-1]"
   ]
  },
  {
   "cell_type": "code",
   "execution_count": 11,
   "id": "ed2bf32f-4887-4f6e-97f4-918e2fd69848",
   "metadata": {
    "tags": []
   },
   "outputs": [],
   "source": [
    "for meta_data in meta_data_files:\n",
    "    if \"jsonl\" in meta_data:\n",
    "        if int(meta_data.rstrip(\".jsonl\").split(\"CLEVR_\")[1]) < 100:\n",
    "            implicature.append(meta_data)\n",
    "        else:\n",
    "            cancel.append(meta_data)"
   ]
  },
  {
   "cell_type": "code",
   "execution_count": 12,
   "id": "0b007000-11cd-4eb1-898f-429681cef80a",
   "metadata": {
    "tags": []
   },
   "outputs": [],
   "source": [
    "final_meta_data_files = []\n",
    "for meta_data in implicature:\n",
    "    if \"json\" in meta_data:\n",
    "        final_meta_data_files.append(meta_data)"
   ]
  },
  {
   "cell_type": "code",
   "execution_count": 13,
   "id": "c5407176-f282-4b40-96b1-666d1b165828",
   "metadata": {},
   "outputs": [
    {
     "data": {
      "text/plain": [
       "['CLEVR_000100.jsonl',\n",
       " 'CLEVR_000101.jsonl',\n",
       " 'CLEVR_000102.jsonl',\n",
       " 'CLEVR_000103.jsonl',\n",
       " 'CLEVR_000104.jsonl',\n",
       " 'CLEVR_000105.jsonl',\n",
       " 'CLEVR_000106.jsonl',\n",
       " 'CLEVR_000107.jsonl',\n",
       " 'CLEVR_000108.jsonl',\n",
       " 'CLEVR_000109.jsonl',\n",
       " 'CLEVR_000110.jsonl',\n",
       " 'CLEVR_000111.jsonl',\n",
       " 'CLEVR_000112.jsonl',\n",
       " 'CLEVR_000113.jsonl',\n",
       " 'CLEVR_000114.jsonl',\n",
       " 'CLEVR_000115.jsonl',\n",
       " 'CLEVR_000116.jsonl',\n",
       " 'CLEVR_000117.jsonl',\n",
       " 'CLEVR_000118.jsonl',\n",
       " 'CLEVR_000119.jsonl',\n",
       " 'CLEVR_000120.jsonl',\n",
       " 'CLEVR_000121.jsonl',\n",
       " 'CLEVR_000122.jsonl',\n",
       " 'CLEVR_000123.jsonl',\n",
       " 'CLEVR_000124.jsonl',\n",
       " 'CLEVR_000125.jsonl',\n",
       " 'CLEVR_000126.jsonl',\n",
       " 'CLEVR_000127.jsonl',\n",
       " 'CLEVR_000128.jsonl',\n",
       " 'CLEVR_000129.jsonl',\n",
       " 'CLEVR_000130.jsonl',\n",
       " 'CLEVR_000131.jsonl',\n",
       " 'CLEVR_000132.jsonl',\n",
       " 'CLEVR_000133.jsonl',\n",
       " 'CLEVR_000134.jsonl',\n",
       " 'CLEVR_000135.jsonl',\n",
       " 'CLEVR_000136.jsonl',\n",
       " 'CLEVR_000137.jsonl',\n",
       " 'CLEVR_000138.jsonl',\n",
       " 'CLEVR_000139.jsonl',\n",
       " 'CLEVR_000140.jsonl',\n",
       " 'CLEVR_000141.jsonl',\n",
       " 'CLEVR_000142.jsonl',\n",
       " 'CLEVR_000143.jsonl',\n",
       " 'CLEVR_000144.jsonl',\n",
       " 'CLEVR_000145.jsonl',\n",
       " 'CLEVR_000146.jsonl',\n",
       " 'CLEVR_000147.jsonl',\n",
       " 'CLEVR_000148.jsonl',\n",
       " 'CLEVR_000149.jsonl',\n",
       " 'CLEVR_000150.jsonl',\n",
       " 'CLEVR_000151.jsonl',\n",
       " 'CLEVR_000152.jsonl',\n",
       " 'CLEVR_000153.jsonl',\n",
       " 'CLEVR_000154.jsonl',\n",
       " 'CLEVR_000155.jsonl',\n",
       " 'CLEVR_000156.jsonl',\n",
       " 'CLEVR_000157.jsonl',\n",
       " 'CLEVR_000158.jsonl',\n",
       " 'CLEVR_000159.jsonl',\n",
       " 'CLEVR_000160.jsonl',\n",
       " 'CLEVR_000161.jsonl',\n",
       " 'CLEVR_000162.jsonl',\n",
       " 'CLEVR_000163.jsonl',\n",
       " 'CLEVR_000164.jsonl',\n",
       " 'CLEVR_000165.jsonl',\n",
       " 'CLEVR_000166.jsonl',\n",
       " 'CLEVR_000167.jsonl',\n",
       " 'CLEVR_000168.jsonl',\n",
       " 'CLEVR_000169.jsonl',\n",
       " 'CLEVR_000170.jsonl',\n",
       " 'CLEVR_000171.jsonl',\n",
       " 'CLEVR_000172.jsonl',\n",
       " 'CLEVR_000173.jsonl',\n",
       " 'CLEVR_000174.jsonl',\n",
       " 'CLEVR_000175.jsonl',\n",
       " 'CLEVR_000176.jsonl',\n",
       " 'CLEVR_000177.jsonl',\n",
       " 'CLEVR_000178.jsonl',\n",
       " 'CLEVR_000179.jsonl',\n",
       " 'CLEVR_000180.jsonl',\n",
       " 'CLEVR_000181.jsonl',\n",
       " 'CLEVR_000182.jsonl',\n",
       " 'CLEVR_000183.jsonl',\n",
       " 'CLEVR_000184.jsonl',\n",
       " 'CLEVR_000185.jsonl',\n",
       " 'CLEVR_000186.jsonl',\n",
       " 'CLEVR_000187.jsonl',\n",
       " 'CLEVR_000188.jsonl',\n",
       " 'CLEVR_000189.jsonl',\n",
       " 'CLEVR_000190.jsonl',\n",
       " 'CLEVR_000191.jsonl',\n",
       " 'CLEVR_000192.jsonl',\n",
       " 'CLEVR_000193.jsonl',\n",
       " 'CLEVR_000194.jsonl',\n",
       " 'CLEVR_000195.jsonl',\n",
       " 'CLEVR_000196.jsonl',\n",
       " 'CLEVR_000197.jsonl',\n",
       " 'CLEVR_000198.jsonl',\n",
       " 'CLEVR_000199.jsonl']"
      ]
     },
     "execution_count": 13,
     "metadata": {},
     "output_type": "execute_result"
    }
   ],
   "source": [
    "cancel"
   ]
  },
  {
   "cell_type": "code",
   "execution_count": 14,
   "id": "a9f581ff-708c-4a2b-b538-e8f5ab212aab",
   "metadata": {
    "tags": []
   },
   "outputs": [],
   "source": [
    "import random\n",
    "human_meta_data_implicature_files = random.sample(implicature, 20)\n",
    "human_meta_data_cancel_files = random.sample(cancel, 20)"
   ]
  },
  {
   "cell_type": "code",
   "execution_count": 15,
   "id": "134f3386-7222-4863-b491-b18c366cd1e2",
   "metadata": {
    "tags": []
   },
   "outputs": [
    {
     "data": {
      "text/plain": [
       "'CLEVR_000068.jsonl'"
      ]
     },
     "execution_count": 15,
     "metadata": {},
     "output_type": "execute_result"
    }
   ],
   "source": [
    "human_meta_data_implicature_files[0]"
   ]
  },
  {
   "cell_type": "code",
   "execution_count": 16,
   "id": "7cedecc9-19e8-41dc-a961-cbff2cfc8e9f",
   "metadata": {
    "tags": []
   },
   "outputs": [],
   "source": [
    "import json\n",
    "for i, human_meta_data in enumerate(human_meta_data_implicature_files+human_meta_data_cancel_files):\n",
    "    #\n",
    "    with open(os.path.join(meta_data_link, human_meta_data), \"r\") as f:\n",
    "        temp_meta_data = list(f)\n",
    "    temp_meta_data = [json.loads(_) for _ in temp_meta_data]\n",
    "    # change image_index, and image_filename\n",
    "    image_index = 3 * i \n",
    "    \n",
    "        \n",
    "    for j, temp in enumerate(temp_meta_data):\n",
    "        if \"image_filename\" in temp:\n",
    "            src_image_path = os.path.join(data_link, \"images\", temp['image_filename'])\n",
    "            tgt_image_path = os.path.join(human_data_link, \"images\", \"CLEVR_%06d.png\" % image_index)\n",
    "            src_mask_path = os.path.join(data_link, \"masks\", temp['image_filename'])\n",
    "            tgt_mask_path = os.path.join(human_data_link, \"masks\", \"CLEVR_%06d.png\" % image_index)\n",
    "            src_som_path = os.path.join(data_link, \"SoMs\", temp['image_filename'])\n",
    "            tgt_som_path = os.path.join(human_data_link, \"SoMs\", \"CLEVR_%06d.png\" % image_index)\n",
    "            \n",
    "            shutil.copy(src_image_path, tgt_image_path)\n",
    "            shutil.copy(src_mask_path, tgt_mask_path)\n",
    "            shutil.copy(src_som_path, tgt_som_path)\n",
    "\n",
    "            temp_meta_data[j]['image_filename'] = \"CLEVR_%06d.png\" % image_index\n",
    "            temp_meta_data[j]['image_index'] = \"%06d\" % image_index\n",
    "            \n",
    "            \n",
    "            image_index += 1 \n",
    "        else:\n",
    "            temp_meta_data[j]['utterance'] = temp_meta_data[j]['utterance']#.replace(\"Not all\", \"Some\")#\"It contains\", \"The images contain\")\n",
    "            temp_meta_data[j]['referent'] = [\"CLEVR_%06d.png\" % (3 * i)]\n",
    "    \n",
    "    tgt_jsonl_path = os.path.join(human_data_link, \"meta_data\", \"CLEVR_%06d.jsonl\" % i)\n",
    "    \n",
    "    with open(tgt_jsonl_path, \"w\") as f:\n",
    "        for element in temp_meta_data:\n",
    "            f.write(json.dumps(element)+\"\\n\")\n",
    "\n",
    "    #src_jsonl_path = os.path.join(meta_data_link, human_meta_data)\n",
    "    #tgt_jsonl_path = os.path.join(human_data_link, \"meta_data\", \"CLEVR_%06d.json\" % i)\n"
   ]
  },
  {
   "cell_type": "code",
   "execution_count": 16,
   "id": "ee2d2780-eab3-48c8-a3d0-72cf46a184f7",
   "metadata": {
    "tags": []
   },
   "outputs": [
    {
     "data": {
      "text/plain": [
       "'/mnt/workspace/workgroup/jianyu/MM-IR.github.io/upperward'"
      ]
     },
     "execution_count": 16,
     "metadata": {},
     "output_type": "execute_result"
    }
   ],
   "source": [
    "pwd"
   ]
  },
  {
   "cell_type": "code",
   "execution_count": null,
   "id": "ddff67b3-4032-4a6d-beb2-7759a41e173d",
   "metadata": {},
   "outputs": [],
   "source": []
  }
 ],
 "metadata": {
  "kernelspec": {
   "display_name": "Python 3 (ipykernel)",
   "language": "python",
   "name": "python3"
  },
  "language_info": {
   "codemirror_mode": {
    "name": "ipython",
    "version": 3
   },
   "file_extension": ".py",
   "mimetype": "text/x-python",
   "name": "python",
   "nbconvert_exporter": "python",
   "pygments_lexer": "ipython3",
   "version": "3.11.5"
  }
 },
 "nbformat": 4,
 "nbformat_minor": 5
}
