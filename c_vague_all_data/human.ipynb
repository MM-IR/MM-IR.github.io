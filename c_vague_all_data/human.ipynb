{
 "cells": [
  {
   "cell_type": "code",
   "execution_count": 1,
   "id": "23e61570-542c-4eca-82fc-384b69583d1d",
   "metadata": {
    "tags": []
   },
   "outputs": [],
   "source": [
    "import os \n",
    "import shutil"
   ]
  },
  {
   "cell_type": "code",
   "execution_count": 2,
   "id": "03dad0ad-d529-4a46-ac2f-633586462a9c",
   "metadata": {
    "tags": []
   },
   "outputs": [
    {
     "data": {
      "text/plain": [
       "'/mnt/workspace/workgroup/jianyu/MM-IR.github.io/c_vague_all_data'"
      ]
     },
     "execution_count": 2,
     "metadata": {},
     "output_type": "execute_result"
    }
   ],
   "source": [
    "pwd"
   ]
  },
  {
   "cell_type": "code",
   "execution_count": 3,
   "id": "cf5af8b7-5018-4448-8070-f643ba5227c8",
   "metadata": {
    "tags": []
   },
   "outputs": [],
   "source": [
    "meta_data_link = \"/mnt/workspace/workgroup/jianyu/MM-IR.github.io/c_vague_all_data/meta_data/\""
   ]
  },
  {
   "cell_type": "code",
   "execution_count": 4,
   "id": "e7d13bf0-2e6c-4b16-ad02-95e8a4696c93",
   "metadata": {
    "tags": []
   },
   "outputs": [],
   "source": [
    "data_link = \"/mnt/workspace/workgroup/jianyu/MM-IR.github.io/c_vague_all_data/\""
   ]
  },
  {
   "cell_type": "code",
   "execution_count": null,
   "id": "59feb052-6df6-40ea-9fef-b525538b6124",
   "metadata": {},
   "outputs": [],
   "source": []
  },
  {
   "cell_type": "code",
   "execution_count": 5,
   "id": "ce87eb1b-f41a-46d9-a524-f72d66a37886",
   "metadata": {
    "tags": []
   },
   "outputs": [],
   "source": [
    "human_data_link = \"/mnt/workspace/workgroup/jianyu/MM-IR.github.io/c_vague_all_data/human_shapeworld_compare/\"\n",
    "#human_data_generate_link = \"/mnt/workspace/workgroup/jianyu/MM-IR.github.io/c_vague_all_data/human_shapeworld_compare/\"\n",
    "if not os.path.exists(human_data_link):\n",
    "    os.mkdir(human_data_link)\n",
    "#if not os.path.exists(human_data_generate_link):\n",
    "#    os.mkdir(human_data_generate_link)"
   ]
  },
  {
   "cell_type": "code",
   "execution_count": 6,
   "id": "90d5c271-43ab-4158-96d9-69edb03e6b14",
   "metadata": {
    "tags": []
   },
   "outputs": [],
   "source": [
    "if not os.path.exists(os.path.join(human_data_link, \"images\")):\n",
    "    os.mkdir(os.path.join(human_data_link, \"images\"))\n",
    "    \n",
    "if not os.path.exists(os.path.join(human_data_link, \"masks\")):\n",
    "    os.mkdir(os.path.join(human_data_link, \"masks\"))\n",
    "    \n",
    "if not os.path.exists(os.path.join(human_data_link, \"meta_data\")):\n",
    "    os.mkdir(os.path.join(human_data_link, \"meta_data\"))\n",
    "\n",
    "if not os.path.exists(os.path.join(human_data_link, \"SoMs\")):\n",
    "    os.mkdir(os.path.join(human_data_link, \"SoMs\"))"
   ]
  },
  {
   "cell_type": "code",
   "execution_count": 7,
   "id": "3744c4d2-3bf1-4a79-a1a1-2c3d46c2a0ee",
   "metadata": {
    "tags": []
   },
   "outputs": [],
   "source": [
    "meta_data_files = os.listdir(meta_data_link)"
   ]
  },
  {
   "cell_type": "code",
   "execution_count": 12,
   "id": "0b007000-11cd-4eb1-898f-429681cef80a",
   "metadata": {
    "tags": []
   },
   "outputs": [],
   "source": [
    "final_meta_data_files = []\n",
    "for meta_data in meta_data_files:\n",
    "    if \"_.json\" in meta_data:\n",
    "        final_meta_data_files.append(meta_data)"
   ]
  },
  {
   "cell_type": "code",
   "execution_count": 13,
   "id": "a9f581ff-708c-4a2b-b538-e8f5ab212aab",
   "metadata": {
    "tags": []
   },
   "outputs": [],
   "source": [
    "import random\n",
    "human_meta_data_files = random.sample(final_meta_data_files, 20)"
   ]
  },
  {
   "cell_type": "code",
   "execution_count": 14,
   "id": "134f3386-7222-4863-b491-b18c366cd1e2",
   "metadata": {
    "tags": []
   },
   "outputs": [
    {
     "data": {
      "text/plain": [
       "'annotations_156_.json'"
      ]
     },
     "execution_count": 14,
     "metadata": {},
     "output_type": "execute_result"
    }
   ],
   "source": [
    "human_meta_data_files[0]"
   ]
  },
  {
   "cell_type": "code",
   "execution_count": 20,
   "id": "7cedecc9-19e8-41dc-a961-cbff2cfc8e9f",
   "metadata": {
    "tags": []
   },
   "outputs": [],
   "source": [
    "import json\n",
    "for i, human_meta_data in enumerate(human_meta_data_files):\n",
    "    #\n",
    "    with open(os.path.join(meta_data_link, human_meta_data), \"r\") as f:\n",
    "        temp_meta_data = json.load(f)\n",
    "    # change file\n",
    "    \n",
    "    src_image_path = os.path.join(data_link, \"images\", temp_meta_data['meta_data']['image_url'])\n",
    "    tgt_image_path = os.path.join(human_data_link, \"images\", \"%d.png\" % i)\n",
    "    \n",
    "    src_jsonl_path = os.path.join(meta_data_link, human_meta_data)\n",
    "    tgt_jsonl_path = os.path.join(human_data_link, \"meta_data\", \"annotations_%d.json\" % i)\n",
    "    \n",
    "    src_som_path = os.path.join(data_link, \"SoMs\", temp_meta_data['meta_data']['image_url'])\n",
    "    tgt_som_path = os.path.join(human_data_link, \"SoMs\", \"%d.png\" % i)\n",
    "    \n",
    "    temp_meta_data['meta_data']['image_url'] = \"%d.png\" % i\n",
    "    temp_meta_data['meta_data']['image_id'] = \"%d\" % i\n",
    "    \n",
    "    shutil.copy(src_image_path, tgt_image_path)\n",
    "    \n",
    "    with open(tgt_jsonl_path, \"w\") as f:\n",
    "        #for element in temp_meta_data:\n",
    "        json.dump(temp_meta_data, f)\n",
    "        # shutil.copy(src_jsonl_path, tgt_jsonl_path)\n",
    "    \n",
    "    shutil.copy(src_som_path, tgt_som_path)"
   ]
  },
  {
   "cell_type": "code",
   "execution_count": 16,
   "id": "ee2d2780-eab3-48c8-a3d0-72cf46a184f7",
   "metadata": {
    "tags": []
   },
   "outputs": [
    {
     "data": {
      "text/plain": [
       "'100'"
      ]
     },
     "execution_count": 16,
     "metadata": {},
     "output_type": "execute_result"
    }
   ],
   "source": [
    "\"%d\" % 100"
   ]
  },
  {
   "cell_type": "code",
   "execution_count": null,
   "id": "ddff67b3-4032-4a6d-beb2-7759a41e173d",
   "metadata": {},
   "outputs": [],
   "source": []
  }
 ],
 "metadata": {
  "kernelspec": {
   "display_name": "Python 3 (ipykernel)",
   "language": "python",
   "name": "python3"
  },
  "language_info": {
   "codemirror_mode": {
    "name": "ipython",
    "version": 3
   },
   "file_extension": ".py",
   "mimetype": "text/x-python",
   "name": "python",
   "nbconvert_exporter": "python",
   "pygments_lexer": "ipython3",
   "version": "3.11.5"
  }
 },
 "nbformat": 4,
 "nbformat_minor": 5
}
