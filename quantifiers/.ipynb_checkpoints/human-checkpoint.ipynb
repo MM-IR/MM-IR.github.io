{
 "cells": [
  {
   "cell_type": "code",
   "execution_count": 4,
   "id": "23e61570-542c-4eca-82fc-384b69583d1d",
   "metadata": {
    "tags": []
   },
   "outputs": [],
   "source": [
    "import os \n",
    "import shutil"
   ]
  },
  {
   "cell_type": "code",
   "execution_count": 2,
   "id": "03dad0ad-d529-4a46-ac2f-633586462a9c",
   "metadata": {
    "tags": []
   },
   "outputs": [
    {
     "data": {
      "text/plain": [
       "'/mnt/workspace/workgroup2/jianyu/jianyu-cs.github.io/our_ad_hoc'"
      ]
     },
     "execution_count": 2,
     "metadata": {},
     "output_type": "execute_result"
    }
   ],
   "source": [
    "pwd"
   ]
  },
  {
   "cell_type": "code",
   "execution_count": 1,
   "id": "cf5af8b7-5018-4448-8070-f643ba5227c8",
   "metadata": {
    "tags": []
   },
   "outputs": [],
   "source": [
    "meta_data_link = \"/mnt/workspace/workgroup/jianyu/jianyu-cs.github.io/connect-clevr/meta_data/\""
   ]
  },
  {
   "cell_type": "code",
   "execution_count": 2,
   "id": "e7d13bf0-2e6c-4b16-ad02-95e8a4696c93",
   "metadata": {
    "tags": []
   },
   "outputs": [],
   "source": [
    "data_link = \"/mnt/workspace/workgroup/jianyu/jianyu-cs.github.io/connect-clevr/\""
   ]
  },
  {
   "cell_type": "code",
   "execution_count": null,
   "id": "59feb052-6df6-40ea-9fef-b525538b6124",
   "metadata": {},
   "outputs": [],
   "source": []
  },
  {
   "cell_type": "code",
   "execution_count": 5,
   "id": "ce87eb1b-f41a-46d9-a524-f72d66a37886",
   "metadata": {
    "tags": []
   },
   "outputs": [],
   "source": [
    "human_data_link = \"/mnt/workspace/workgroup/jianyu/jianyu-cs.github.io/connect-clevr/human_connect/\"\n",
    "#human_data_generate_link = \"/mnt/workspace/workgroup2/jianyu/jianyu-cs.github.io/our_ad_hoc/human_ad_hoc_generate/\"\n",
    "if not os.path.exists(human_data_link):\n",
    "    os.mkdir(human_data_link)\n",
    "#if not os.path.exists(human_data_generate_link):\n",
    "#    os.mkdir(human_data_generate_link)"
   ]
  },
  {
   "cell_type": "code",
   "execution_count": 6,
   "id": "90d5c271-43ab-4158-96d9-69edb03e6b14",
   "metadata": {
    "tags": []
   },
   "outputs": [],
   "source": [
    "if not os.path.exists(os.path.join(human_data_link, \"images\")):\n",
    "    os.mkdir(os.path.join(human_data_link, \"images\"))\n",
    "\n",
    "    \n",
    "if not os.path.exists(os.path.join(human_data_link, \"masks\")):\n",
    "    os.mkdir(os.path.join(human_data_link, \"masks\"))\n",
    "\n",
    "    \n",
    "if not os.path.exists(os.path.join(human_data_link, \"meta_data\")):\n",
    "    os.mkdir(os.path.join(human_data_link, \"meta_data\"))\n",
    "\n",
    "\n",
    "if not os.path.exists(os.path.join(human_data_link, \"SoMs\")):\n",
    "    os.mkdir(os.path.join(human_data_link, \"SoMs\"))\n"
   ]
  },
  {
   "cell_type": "code",
   "execution_count": 10,
   "id": "3744c4d2-3bf1-4a79-a1a1-2c3d46c2a0ee",
   "metadata": {
    "tags": []
   },
   "outputs": [],
   "source": [
    "meta_data_files = os.listdir(meta_data_link)"
   ]
  },
  {
   "cell_type": "code",
   "execution_count": 12,
   "id": "579f3694-90e1-42a8-9956-d31824ac567c",
   "metadata": {
    "tags": []
   },
   "outputs": [],
   "source": [
    "implicature = []"
   ]
  },
  {
   "cell_type": "code",
   "execution_count": 13,
   "id": "c41b3864-4a40-4862-be1f-64133ca3630e",
   "metadata": {
    "tags": []
   },
   "outputs": [],
   "source": [
    "cancel = []"
   ]
  },
  {
   "cell_type": "code",
   "execution_count": 14,
   "id": "cf8fe6c0-0b24-4a75-8d55-56c4df862a52",
   "metadata": {
    "tags": []
   },
   "outputs": [
    {
     "data": {
      "text/plain": [
       "'CLEVR_000783.jsonl'"
      ]
     },
     "execution_count": 14,
     "metadata": {},
     "output_type": "execute_result"
    }
   ],
   "source": [
    "meta_data_files[-1]"
   ]
  },
  {
   "cell_type": "code",
   "execution_count": 15,
   "id": "ed2bf32f-4887-4f6e-97f4-918e2fd69848",
   "metadata": {
    "tags": []
   },
   "outputs": [],
   "source": [
    "for meta_data in meta_data_files:\n",
    "    if \"json\" in meta_data:\n",
    "        if int(meta_data.rstrip(\".jsonl\").split(\"CLEVR_\")[1]) < 400:\n",
    "            implicature.append(meta_data)\n",
    "        else:\n",
    "            cancel.append(meta_data)"
   ]
  },
  {
   "cell_type": "code",
   "execution_count": 8,
   "id": "0b007000-11cd-4eb1-898f-429681cef80a",
   "metadata": {
    "tags": []
   },
   "outputs": [],
   "source": [
    "final_meta_data_files = []\n",
    "for meta_data in implicature:\n",
    "    if \"json\" in meta_data:\n",
    "        final_meta_data_files.append(meta_data)"
   ]
  },
  {
   "cell_type": "code",
   "execution_count": null,
   "id": "c5407176-f282-4b40-96b1-666d1b165828",
   "metadata": {},
   "outputs": [],
   "source": []
  },
  {
   "cell_type": "code",
   "execution_count": 16,
   "id": "a9f581ff-708c-4a2b-b538-e8f5ab212aab",
   "metadata": {
    "tags": []
   },
   "outputs": [],
   "source": [
    "import random\n",
    "human_meta_data_implicature_files = random.sample(implicature, 20)\n",
    "human_meta_data_cancel_files = random.sample(cancel, 20)"
   ]
  },
  {
   "cell_type": "code",
   "execution_count": 17,
   "id": "134f3386-7222-4863-b491-b18c366cd1e2",
   "metadata": {
    "tags": []
   },
   "outputs": [
    {
     "data": {
      "text/plain": [
       "'CLEVR_000578.jsonl'"
      ]
     },
     "execution_count": 17,
     "metadata": {},
     "output_type": "execute_result"
    }
   ],
   "source": [
    "human_meta_data_files[0]"
   ]
  },
  {
   "cell_type": "code",
   "execution_count": 21,
   "id": "7cedecc9-19e8-41dc-a961-cbff2cfc8e9f",
   "metadata": {
    "tags": []
   },
   "outputs": [],
   "source": [
    "import json\n",
    "for i, human_meta_data in enumerate(human_meta_data_implicature_files+human_meta_data_cancel_files):\n",
    "    #\n",
    "    with open(os.path.join(meta_data_link, human_meta_data), \"r\") as f:\n",
    "        temp_meta_data = list(f)\n",
    "    temp_meta_data = [json.loads(_) for _ in temp_meta_data]\n",
    "    # change image_index, and image_filename\n",
    "    image_index = 5 * i \n",
    "    \n",
    "        \n",
    "    for j, temp in enumerate(temp_meta_data):\n",
    "        if \"image_filename\" in temp:\n",
    "            src_image_path = os.path.join(data_link, \"images\", temp['image_filename'])\n",
    "            tgt_image_path = os.path.join(human_data_link, \"images\", \"CLEVR_%06d.png\" % image_index)\n",
    "            src_mask_path = os.path.join(data_link, \"masks\", temp['image_filename'])\n",
    "            tgt_mask_path = os.path.join(human_data_link, \"masks\", \"CLEVR_%06d.png\" % image_index)\n",
    "            src_som_path = os.path.join(data_link, \"SoMs\", temp['image_filename'])\n",
    "            tgt_som_path = os.path.join(human_data_link, \"SoMs\", \"CLEVR_%06d.png\" % image_index)\n",
    "            \n",
    "            shutil.copy(src_image_path, tgt_image_path)\n",
    "            shutil.copy(src_mask_path, tgt_mask_path)\n",
    "            shutil.copy(src_som_path, tgt_som_path)\n",
    "\n",
    "            temp_meta_data[j]['image_filename'] = \"CLEVR_%06d.png\" % image_index\n",
    "            temp_meta_data[j]['image_index'] = \"%06d\" % image_index\n",
    "            \n",
    "            \n",
    "            image_index += 1 \n",
    "        else:\n",
    "            temp_meta_data[j]['utterance'] = temp_meta_data[j]['utterance'].replace(\"It contains\", \"The images contain\")\n",
    "            temp_meta_data[j]['referents'] = [\"CLEVR_%06d.png\" % (5 * i), \"CLEVR_%06d.png\" % (5 * i + 1)]\n",
    "    \n",
    "    tgt_jsonl_path = os.path.join(human_data_link, \"meta_data\", \"CLEVR_%06d.jsonl\" % i)\n",
    "    \n",
    "    with open(tgt_jsonl_path, \"w\") as f:\n",
    "        for element in temp_meta_data:\n",
    "            f.write(json.dumps(element)+\"\\n\")\n",
    "\n",
    "    #src_jsonl_path = os.path.join(meta_data_link, human_meta_data)\n",
    "    #tgt_jsonl_path = os.path.join(human_data_link, \"meta_data\", \"CLEVR_%06d.json\" % i)\n"
   ]
  },
  {
   "cell_type": "code",
   "execution_count": null,
   "id": "ee2d2780-eab3-48c8-a3d0-72cf46a184f7",
   "metadata": {
    "tags": []
   },
   "outputs": [],
   "source": []
  },
  {
   "cell_type": "code",
   "execution_count": null,
   "id": "ddff67b3-4032-4a6d-beb2-7759a41e173d",
   "metadata": {},
   "outputs": [],
   "source": []
  }
 ],
 "metadata": {
  "kernelspec": {
   "display_name": "Python 3 (ipykernel)",
   "language": "python",
   "name": "python3"
  },
  "language_info": {
   "codemirror_mode": {
    "name": "ipython",
    "version": 3
   },
   "file_extension": ".py",
   "mimetype": "text/x-python",
   "name": "python",
   "nbconvert_exporter": "python",
   "pygments_lexer": "ipython3",
   "version": "3.11.5"
  }
 },
 "nbformat": 4,
 "nbformat_minor": 5
}
